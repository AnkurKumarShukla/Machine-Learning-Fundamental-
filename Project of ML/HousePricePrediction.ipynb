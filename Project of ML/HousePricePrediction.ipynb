{
  "nbformat": 4,
  "nbformat_minor": 0,
  "metadata": {
    "colab": {
      "name": "HousePricePrediction.ipynb",
      "provenance": []
    },
    "kernelspec": {
      "name": "python3",
      "display_name": "Python 3"
    },
    "language_info": {
      "name": "python"
    }
  },
  "cells": [
    {
      "cell_type": "code",
      "metadata": {
        "id": "xaqH-Ct5UUe2"
      },
      "source": [
        ""
      ],
      "execution_count": null,
      "outputs": []
    },
    {
      "cell_type": "markdown",
      "metadata": {
        "id": "taAq5YN6Up7D"
      },
      "source": [
        "# House Price Perdiction 🏡 = ❓ 💰\n",
        "\n",
        "\\\n",
        "###Import basic library\n",
        "\n",
        "\n",
        "\n"
      ]
    },
    {
      "cell_type": "code",
      "metadata": {
        "id": "vRPhhGYZV9YB"
      },
      "source": [
        "import numpy as np\n",
        "import pandas as pd \n",
        "import matplotlib.pyplot as plt\n"
      ],
      "execution_count": null,
      "outputs": []
    },
    {
      "cell_type": "markdown",
      "metadata": {
        "id": "uPEQ4EPMWPm7"
      },
      "source": [
        "### Read  data"
      ]
    },
    {
      "cell_type": "code",
      "metadata": {
        "id": "97VukuciWZfL"
      },
      "source": [
        "dataset = pd.read_csv(\"train.csv\")\n",
        "x = dataset.iloc[:,:-1].values\n",
        "y = dataset.iloc[:,-1].values"
      ],
      "execution_count": null,
      "outputs": []
    },
    {
      "cell_type": "markdown",
      "metadata": {
        "id": "Cx73c4yOW0NR"
      },
      "source": [
        "### Split data to train and test data ( to find accuracy ) "
      ]
    },
    {
      "cell_type": "code",
      "metadata": {
        "id": "r78g7oeVXI2l"
      },
      "source": [
        "from sklearn.model_selection import train_test_split\n",
        "xtrain,xtest,ytrain,ytest = train_test_split(x,y,test_size=0.25,random_state=0)\n"
      ],
      "execution_count": null,
      "outputs": []
    },
    {
      "cell_type": "code",
      "metadata": {
        "id": "CxVoX2VRDV_7"
      },
      "source": [
        "# testdata=pd.read_csv(\"test.csv\")\n",
        "# xtest= testdata.iloc[:,:-1].values\n",
        "# ytest= testdata.iloc[:,-1].vaues"
      ],
      "execution_count": null,
      "outputs": []
    },
    {
      "cell_type": "markdown",
      "metadata": {
        "id": "FHhACt3nYRmX"
      },
      "source": [
        "### Model selection \n",
        "###### Here i selected all as it is good practice to see all model  "
      ]
    },
    {
      "cell_type": "markdown",
      "metadata": {
        "id": "HWLrZlPrZOc8"
      },
      "source": [
        "#####multiple linear regression"
      ]
    },
    {
      "cell_type": "code",
      "metadata": {
        "colab": {
          "base_uri": "https://localhost:8080/"
        },
        "id": "B1aSJtbLYpEk",
        "outputId": "1d001f45-51d0-4f94-fbe7-184268f9f8fb"
      },
      "source": [
        "from sklearn.linear_model import LinearRegression\n",
        "multi = LinearRegression()\n",
        "multi.fit(xtrain,ytrain)"
      ],
      "execution_count": null,
      "outputs": [
        {
          "output_type": "execute_result",
          "data": {
            "text/plain": [
              "LinearRegression()"
            ]
          },
          "metadata": {},
          "execution_count": 85
        }
      ]
    },
    {
      "cell_type": "markdown",
      "metadata": {
        "id": "EhIX_0-oZX1u"
      },
      "source": [
        "#####decission tree regression"
      ]
    },
    {
      "cell_type": "code",
      "metadata": {
        "colab": {
          "base_uri": "https://localhost:8080/"
        },
        "id": "cOmWm07dZgh7",
        "outputId": "33ee00ce-92a9-49ba-8f80-c9427a663e6a"
      },
      "source": [
        "from sklearn.tree import DecisionTreeRegressor\n",
        "decisn= DecisionTreeRegressor(random_state=0)\n",
        "decisn.fit(xtrain,ytrain)"
      ],
      "execution_count": null,
      "outputs": [
        {
          "output_type": "execute_result",
          "data": {
            "text/plain": [
              "DecisionTreeRegressor(random_state=0)"
            ]
          },
          "metadata": {},
          "execution_count": 86
        }
      ]
    },
    {
      "cell_type": "markdown",
      "metadata": {
        "id": "Pak_wVKiZ58E"
      },
      "source": [
        "#####polynomial regression tree"
      ]
    },
    {
      "cell_type": "code",
      "metadata": {
        "colab": {
          "base_uri": "https://localhost:8080/"
        },
        "id": "8-MUo0hdaA4z",
        "outputId": "9ff9f1cd-0d1b-45d7-a5d2-508550684f81"
      },
      "source": [
        "from sklearn.preprocessing import PolynomialFeatures\n",
        "from sklearn.linear_model import LinearRegression\n",
        "pol_degree = PolynomialFeatures(degree= 3)\n",
        "xpoly= pol_degree.fit_transform(xtrain)\n",
        "poly= LinearRegression()\n",
        "poly.fit(xpoly,ytrain)"
      ],
      "execution_count": null,
      "outputs": [
        {
          "output_type": "execute_result",
          "data": {
            "text/plain": [
              "LinearRegression()"
            ]
          },
          "metadata": {},
          "execution_count": 87
        }
      ]
    },
    {
      "cell_type": "markdown",
      "metadata": {
        "id": "xpYRvhzIaymF"
      },
      "source": [
        "#####support vector regression (SVR)\n",
        "#####{***here we need to do feature scaling*** }\n"
      ]
    },
    {
      "cell_type": "code",
      "metadata": {
        "colab": {
          "base_uri": "https://localhost:8080/"
        },
        "id": "iPWlfXOMbYLr",
        "outputId": "71b9c6ee-c71d-4d58-aa09-4adb78224b15"
      },
      "source": [
        "# Feature scaling \n",
        "from sklearn.preprocessing import StandardScaler\n",
        "scx= StandardScaler()\n",
        "scy= StandardScaler()\n",
        "\n",
        "xtrain_svr = scx.fit_transform(xtrain)\n",
        "ytrain_svr = scy.fit_transform(ytrain.reshape(len(ytrain),1))\n",
        "\n",
        "\n",
        "# training the model\n",
        "from sklearn.svm import SVR\n",
        "svr_mod= SVR(kernel = 'rbf')\n",
        "svr_mod.fit(xtrain_svr,ytrain_svr) "
      ],
      "execution_count": null,
      "outputs": [
        {
          "output_type": "stream",
          "name": "stderr",
          "text": [
            "/usr/local/lib/python3.7/dist-packages/sklearn/utils/validation.py:985: DataConversionWarning: A column-vector y was passed when a 1d array was expected. Please change the shape of y to (n_samples, ), for example using ravel().\n",
            "  y = column_or_1d(y, warn=True)\n"
          ]
        },
        {
          "output_type": "execute_result",
          "data": {
            "text/plain": [
              "SVR()"
            ]
          },
          "metadata": {},
          "execution_count": 88
        }
      ]
    },
    {
      "cell_type": "markdown",
      "metadata": {
        "id": "gPoR_t5eg2R2"
      },
      "source": [
        "##### random forest regression"
      ]
    },
    {
      "cell_type": "code",
      "metadata": {
        "colab": {
          "base_uri": "https://localhost:8080/"
        },
        "id": "NU9poERBiRru",
        "outputId": "492534c0-de82-40d6-b966-0380da1985af"
      },
      "source": [
        "from sklearn.ensemble import RandomForestRegressor\n",
        "rand_forest= RandomForestRegressor(n_estimators = 10,random_state=0)\n",
        "rand_forest.fit(xtrain,ytrain)\n"
      ],
      "execution_count": null,
      "outputs": [
        {
          "output_type": "execute_result",
          "data": {
            "text/plain": [
              "RandomForestRegressor(n_estimators=10, random_state=0)"
            ]
          },
          "metadata": {},
          "execution_count": 89
        }
      ]
    },
    {
      "cell_type": "markdown",
      "metadata": {
        "id": "eURTXdytl9gB"
      },
      "source": [
        "### Predicting with accuracy"
      ]
    },
    {
      "cell_type": "markdown",
      "metadata": {
        "id": "U1GcNXDgnciF"
      },
      "source": [
        "###### multiple regression"
      ]
    },
    {
      "cell_type": "code",
      "metadata": {
        "id": "OEWqa_u2m1TQ"
      },
      "source": [
        "ypred_mul = multi.predict(xtest)\n",
        "np.set_printoptions(precision=2)\n",
        "print(np.concatenate((ypred_mul.reshape(len(ypred_mul),1), ytest.reshape(len(ytest),1)),1))\n",
        "\n",
        "# accuracy\n",
        "from sklearn.metrics import r2_score\n",
        "multi_accu=r2_score(ytest,ypred_mul)"
      ],
      "execution_count": null,
      "outputs": []
    },
    {
      "cell_type": "markdown",
      "metadata": {
        "id": "_CqzpVpSsJuw"
      },
      "source": [
        "##### decission tree "
      ]
    },
    {
      "cell_type": "code",
      "metadata": {
        "id": "eQrt_4yEtaFJ"
      },
      "source": [
        "ypred_dis= decisn.predict(xtest)\n",
        "np.set_printoptions(precision=2)\n",
        "print(np.concatenate((ypred_dis.reshape(len(ypred_dis),1), ytest.reshape(len(ytest),1)),1))\n",
        "\n",
        "#  accuracy\n",
        "from sklearn.metrics import r2_score\n",
        "dec_accu=r2_score(ytest,ypred_dis)"
      ],
      "execution_count": null,
      "outputs": []
    },
    {
      "cell_type": "markdown",
      "metadata": {
        "id": "EGKn2Qd3yIJ3"
      },
      "source": [
        "#####polynomial decission tree"
      ]
    },
    {
      "cell_type": "code",
      "metadata": {
        "id": "ssJYPDfc8uqy"
      },
      "source": [
        "ypred = poly.predict(pol_degree.transform(xtest))\n",
        "np.set_printoptions(precision=2)\n",
        "print(np.concatenate((ypred.reshape(len(ypred),1), ytest.reshape(len(ytest),1)),1))\n",
        "\n",
        "# accuracy \n",
        "from sklearn.metrics import r2_score\n",
        "pol_accu=r2_score(ytest,ypred)"
      ],
      "execution_count": null,
      "outputs": []
    },
    {
      "cell_type": "markdown",
      "metadata": {
        "id": "dQ2VQjAZ-DC0"
      },
      "source": [
        "#####SVR"
      ]
    },
    {
      "cell_type": "code",
      "metadata": {
        "id": "t_g7FY6X-Dqc"
      },
      "source": [
        "ypred = scy.inverse_transform(svr_mod.predict(scx.transform(xtest)).reshape(len(ytest),1))\n",
        "np.set_printoptions(precision=2)\n",
        "print(np.concatenate((ypred.reshape(len(ypred),1), ytest.reshape(len(ytest),1)),1))\n",
        "\n",
        "# Accuracy\n",
        "from sklearn.metrics import r2_score\n",
        "svr_accu=r2_score(ytest, ypred)"
      ],
      "execution_count": null,
      "outputs": []
    },
    {
      "cell_type": "markdown",
      "metadata": {
        "id": "NpcR3C5t-C3D"
      },
      "source": [
        "#####Random Forest regression"
      ]
    },
    {
      "cell_type": "code",
      "metadata": {
        "id": "Qx6Ii2a8-96u"
      },
      "source": [
        "ypred= rand_forest.predict(xtest)\n",
        "np.set_printoptions(precision=2)\n",
        "print(np.concatenate((ypred.reshape(len(ypred),1), ytest.reshape(len(ytest),1)),1))\n",
        "\n",
        "# accuracy\n",
        "from sklearn.metrics import r2_score\n",
        "ran_accu=r2_score(ytest, ypred)"
      ],
      "execution_count": null,
      "outputs": []
    },
    {
      "cell_type": "code",
      "metadata": {
        "id": "zmefrb92EUM5"
      },
      "source": [
        "print(\"Random forest regression predicts with accuracy of :\" )\n",
        "print(ran_accu)\n",
        "print(\"SVR  regression predicts with accuracy of :\" )\n",
        "print(svr_accu)\n",
        "print(\"polynomial regression predicts with accuracy of :\" )\n",
        "print(pol_accu)\n",
        "print(\"Decision tree regression predicts with accuracy of :\" )\n",
        "print(dec_accu)\n",
        "print(\"multiple  regression predicts with accuracy of :\" )\n",
        "print(multi_accu)\n"
      ],
      "execution_count": null,
      "outputs": []
    }
  ]
}