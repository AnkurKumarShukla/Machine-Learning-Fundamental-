{
 "cells": [
  {
   "cell_type": "code",
   "execution_count": 1,
   "metadata": {},
   "outputs": [],
   "source": [
    "import tensorflow as tf\n",
    "from keras.preprocessing.image import ImageDataGenerator"
   ]
  },
  {
   "cell_type": "code",
   "execution_count": 2,
   "metadata": {},
   "outputs": [
    {
     "data": {
      "text/plain": [
       "'2.6.0'"
      ]
     },
     "execution_count": 2,
     "metadata": {},
     "output_type": "execute_result"
    }
   ],
   "source": [
    "tf.__version__"
   ]
  },
  {
   "cell_type": "code",
   "execution_count": 6,
   "metadata": {},
   "outputs": [
    {
     "name": "stdout",
     "output_type": "stream",
     "text": [
      "Found 7999 images belonging to 2 classes.\n"
     ]
    }
   ],
   "source": [
    "\n",
    "# image agumentation\n",
    "train_datagen = ImageDataGenerator(rescale=1./255,\n",
    "        shear_range=0.2,\n",
    "        zoom_range=0.2,\n",
    "        horizontal_flip=True)\n",
    "\n",
    "train_generator = train_datagen.flow_from_directory(\n",
    "        'training_set',\n",
    "        target_size=(64, 64),\n",
    "        batch_size=32,\n",
    "        class_mode='binary')"
   ]
  },
  {
   "cell_type": "code",
   "execution_count": 7,
   "metadata": {},
   "outputs": [],
   "source": [
    "test_datagen = ImageDataGenerator(rescale=1./255)"
   ]
  },
  {
   "cell_type": "code",
   "execution_count": 8,
   "metadata": {},
   "outputs": [
    {
     "name": "stdout",
     "output_type": "stream",
     "text": [
      "Found 2000 images belonging to 2 classes.\n"
     ]
    }
   ],
   "source": [
    "validation_generator = test_datagen.flow_from_directory(\n",
    "        'test_set',\n",
    "        target_size=(64,64),\n",
    "        batch_size=32,\n",
    "        class_mode='binary')"
   ]
  },
  {
   "cell_type": "code",
   "execution_count": 10,
   "metadata": {},
   "outputs": [],
   "source": [
    "cnn= tf.keras.models.Sequential()"
   ]
  },
  {
   "cell_type": "code",
   "execution_count": 12,
   "metadata": {},
   "outputs": [],
   "source": [
    "cnn.add(tf.keras.layers.Conv2D(filters=32,kernel_size=3,activation='relu',input_shape=[64 ,64, 3]))"
   ]
  },
  {
   "cell_type": "code",
   "execution_count": 14,
   "metadata": {},
   "outputs": [],
   "source": [
    "cnn.add(tf.keras.layers.MaxPool2D( pool_size=2, strides=2 ))"
   ]
  },
  {
   "cell_type": "code",
   "execution_count": 15,
   "metadata": {},
   "outputs": [],
   "source": [
    "cnn.add(tf.keras.layers.Conv2D(filters=32,kernel_size=3,activation='relu',input_shape=[64 ,64, 3]))\n",
    "cnn.add(tf.keras.layers.MaxPool2D( pool_size=2, strides=2 ))"
   ]
  },
  {
   "cell_type": "code",
   "execution_count": 16,
   "metadata": {},
   "outputs": [],
   "source": [
    "cnn.add(tf.keras.layers.Flatten())"
   ]
  },
  {
   "cell_type": "code",
   "execution_count": 17,
   "metadata": {},
   "outputs": [],
   "source": [
    "cnn.add(tf.keras.layers.Dense(units=128,activation='relu'))"
   ]
  },
  {
   "cell_type": "code",
   "execution_count": 18,
   "metadata": {},
   "outputs": [],
   "source": [
    "cnn.add(tf.keras.layers.Dense(units=1,activation='sigmoid'))"
   ]
  },
  {
   "cell_type": "code",
   "execution_count": 19,
   "metadata": {},
   "outputs": [
    {
     "name": "stdout",
     "output_type": "stream",
     "text": [
      "Epoch 1/25\n",
      "250/250 [==============================] - 152s 605ms/step - loss: 0.6698 - accuracy: 0.5862 - val_loss: 0.6009 - val_accuracy: 0.6895\n",
      "Epoch 2/25\n",
      "250/250 [==============================] - 56s 224ms/step - loss: 0.5903 - accuracy: 0.6843 - val_loss: 0.5862 - val_accuracy: 0.6875\n",
      "Epoch 3/25\n",
      "250/250 [==============================] - 56s 223ms/step - loss: 0.5391 - accuracy: 0.7296 - val_loss: 0.5828 - val_accuracy: 0.6980\n",
      "Epoch 4/25\n",
      "250/250 [==============================] - 56s 224ms/step - loss: 0.5120 - accuracy: 0.7436 - val_loss: 0.5165 - val_accuracy: 0.7490\n",
      "Epoch 5/25\n",
      "250/250 [==============================] - 56s 224ms/step - loss: 0.4984 - accuracy: 0.7533 - val_loss: 0.5086 - val_accuracy: 0.7500\n",
      "Epoch 6/25\n",
      "250/250 [==============================] - 54s 215ms/step - loss: 0.4740 - accuracy: 0.7691 - val_loss: 0.4815 - val_accuracy: 0.7765\n",
      "Epoch 7/25\n",
      "250/250 [==============================] - 51s 206ms/step - loss: 0.4554 - accuracy: 0.7905 - val_loss: 0.4869 - val_accuracy: 0.7725\n",
      "Epoch 8/25\n",
      "250/250 [==============================] - 51s 205ms/step - loss: 0.4410 - accuracy: 0.7937 - val_loss: 0.5144 - val_accuracy: 0.7705\n",
      "Epoch 9/25\n",
      "250/250 [==============================] - 53s 211ms/step - loss: 0.4262 - accuracy: 0.8044 - val_loss: 0.4973 - val_accuracy: 0.7745\n",
      "Epoch 10/25\n",
      "250/250 [==============================] - 49s 197ms/step - loss: 0.4174 - accuracy: 0.8065 - val_loss: 0.4597 - val_accuracy: 0.7940\n",
      "Epoch 11/25\n",
      "250/250 [==============================] - 29s 117ms/step - loss: 0.3986 - accuracy: 0.8176 - val_loss: 0.4509 - val_accuracy: 0.7875\n",
      "Epoch 12/25\n",
      "250/250 [==============================] - 42s 168ms/step - loss: 0.3846 - accuracy: 0.8229 - val_loss: 0.4746 - val_accuracy: 0.7820\n",
      "Epoch 13/25\n",
      "250/250 [==============================] - 39s 156ms/step - loss: 0.3723 - accuracy: 0.8292 - val_loss: 0.5119 - val_accuracy: 0.7760\n",
      "Epoch 14/25\n",
      "250/250 [==============================] - 31s 124ms/step - loss: 0.3545 - accuracy: 0.8415 - val_loss: 0.4772 - val_accuracy: 0.7850\n",
      "Epoch 15/25\n",
      "250/250 [==============================] - 31s 124ms/step - loss: 0.3462 - accuracy: 0.8479 - val_loss: 0.4801 - val_accuracy: 0.7950\n",
      "Epoch 16/25\n",
      "250/250 [==============================] - 31s 123ms/step - loss: 0.3221 - accuracy: 0.8570 - val_loss: 0.4654 - val_accuracy: 0.8085\n",
      "Epoch 17/25\n",
      "250/250 [==============================] - 31s 123ms/step - loss: 0.3152 - accuracy: 0.8645 - val_loss: 0.4617 - val_accuracy: 0.7890\n",
      "Epoch 18/25\n",
      "250/250 [==============================] - 31s 123ms/step - loss: 0.3065 - accuracy: 0.8649 - val_loss: 0.4522 - val_accuracy: 0.8140\n",
      "Epoch 19/25\n",
      "250/250 [==============================] - 31s 123ms/step - loss: 0.2890 - accuracy: 0.8726 - val_loss: 0.4911 - val_accuracy: 0.7885\n",
      "Epoch 20/25\n",
      "250/250 [==============================] - 31s 123ms/step - loss: 0.2766 - accuracy: 0.8814 - val_loss: 0.4903 - val_accuracy: 0.8095\n",
      "Epoch 21/25\n",
      "250/250 [==============================] - 31s 124ms/step - loss: 0.2632 - accuracy: 0.8905 - val_loss: 0.5402 - val_accuracy: 0.7920\n",
      "Epoch 22/25\n",
      "250/250 [==============================] - 32s 127ms/step - loss: 0.2482 - accuracy: 0.8991 - val_loss: 0.4961 - val_accuracy: 0.8045\n",
      "Epoch 23/25\n",
      "250/250 [==============================] - 32s 126ms/step - loss: 0.2379 - accuracy: 0.9017 - val_loss: 0.4948 - val_accuracy: 0.8110\n",
      "Epoch 24/25\n",
      "250/250 [==============================] - 31s 125ms/step - loss: 0.2292 - accuracy: 0.9035 - val_loss: 0.5119 - val_accuracy: 0.8050\n",
      "Epoch 25/25\n",
      "250/250 [==============================] - 32s 129ms/step - loss: 0.2207 - accuracy: 0.9062 - val_loss: 0.5241 - val_accuracy: 0.8010\n"
     ]
    },
    {
     "data": {
      "text/plain": [
       "<keras.callbacks.History at 0x26b05bdb8b0>"
      ]
     },
     "execution_count": 19,
     "metadata": {},
     "output_type": "execute_result"
    }
   ],
   "source": [
    "cnn.compile(optimizer='adam',loss='binary_crossentropy',metrics=['accuracy'])\n",
    "cnn.fit(x=train_generator,validation_data=validation_generator,epochs=25)"
   ]
  },
  {
   "cell_type": "code",
   "execution_count": 22,
   "metadata": {},
   "outputs": [
    {
     "name": "stdout",
     "output_type": "stream",
     "text": [
      "dog\n"
     ]
    }
   ],
   "source": [
    "import numpy as np\n",
    "from keras.preprocessing import image\n",
    "test_im= image.load_img('single_prediction/cat_or_dog_1.jpg',color_mode='rgb',target_size=(64,64))\n",
    "test_im= image.img_to_array(test_im)\n",
    "test_im=np.expand_dims(test_im,axis=0)\n",
    "result=cnn.predict(test_im)\n",
    "train_generator.class_indices\n",
    "if result[0][0]:\n",
    "    pred=\"dog\"\n",
    "else:\n",
    "    pred=\"cat\"\n",
    "print(pred)"
   ]
  },
  {
   "cell_type": "code",
   "execution_count": null,
   "metadata": {},
   "outputs": [],
   "source": [
    "jk"
   ]
  }
 ],
 "metadata": {
  "interpreter": {
   "hash": "544ef174ada9e8937419fd85a1290d2c63a1a8bfcf00e596b2f090eb4f550512"
  },
  "kernelspec": {
   "display_name": "Python 3.9.7 64-bit",
   "language": "python",
   "name": "python3"
  },
  "language_info": {
   "codemirror_mode": {
    "name": "ipython",
    "version": 3
   },
   "file_extension": ".py",
   "mimetype": "text/x-python",
   "name": "python",
   "nbconvert_exporter": "python",
   "pygments_lexer": "ipython3",
   "version": "3.9.7"
  },
  "orig_nbformat": 4
 },
 "nbformat": 4,
 "nbformat_minor": 2
}
